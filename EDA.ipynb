{
 "cells": [
  {
   "cell_type": "code",
   "execution_count": 180,
   "id": "be8221aa",
   "metadata": {},
   "outputs": [],
   "source": [
    "# libs\n",
    "\n",
    "import pandas as pd\n",
    "import seaborn as sns\n",
    "import matplotlib.pyplot as plt\n",
    "import numpy as np\n",
    "from pyod.models.knn import KNN\n",
    "from sklearn.model_selection import train_test_split"
   ]
  },
  {
   "cell_type": "code",
   "execution_count": 181,
   "id": "0cfb3eaf",
   "metadata": {},
   "outputs": [
    {
     "data": {
      "text/html": [
       "<div>\n",
       "<style scoped>\n",
       "    .dataframe tbody tr th:only-of-type {\n",
       "        vertical-align: middle;\n",
       "    }\n",
       "\n",
       "    .dataframe tbody tr th {\n",
       "        vertical-align: top;\n",
       "    }\n",
       "\n",
       "    .dataframe thead th {\n",
       "        text-align: right;\n",
       "    }\n",
       "</style>\n",
       "<table border=\"1\" class=\"dataframe\">\n",
       "  <thead>\n",
       "    <tr style=\"text-align: right;\">\n",
       "      <th></th>\n",
       "      <th>city</th>\n",
       "      <th>area</th>\n",
       "      <th>rooms</th>\n",
       "      <th>bathroom</th>\n",
       "      <th>parking spaces</th>\n",
       "      <th>floor</th>\n",
       "      <th>animal</th>\n",
       "      <th>furniture</th>\n",
       "      <th>hoa (R$)</th>\n",
       "      <th>rent amount (R$)</th>\n",
       "      <th>property tax (R$)</th>\n",
       "      <th>fire insurance (R$)</th>\n",
       "      <th>total (R$)</th>\n",
       "    </tr>\n",
       "  </thead>\n",
       "  <tbody>\n",
       "    <tr>\n",
       "      <th>0</th>\n",
       "      <td>São Paulo</td>\n",
       "      <td>70</td>\n",
       "      <td>2</td>\n",
       "      <td>1</td>\n",
       "      <td>1</td>\n",
       "      <td>7</td>\n",
       "      <td>acept</td>\n",
       "      <td>furnished</td>\n",
       "      <td>2065</td>\n",
       "      <td>3300</td>\n",
       "      <td>211</td>\n",
       "      <td>42</td>\n",
       "      <td>5618</td>\n",
       "    </tr>\n",
       "    <tr>\n",
       "      <th>1</th>\n",
       "      <td>São Paulo</td>\n",
       "      <td>320</td>\n",
       "      <td>4</td>\n",
       "      <td>4</td>\n",
       "      <td>0</td>\n",
       "      <td>20</td>\n",
       "      <td>acept</td>\n",
       "      <td>not furnished</td>\n",
       "      <td>1200</td>\n",
       "      <td>4960</td>\n",
       "      <td>1750</td>\n",
       "      <td>63</td>\n",
       "      <td>7973</td>\n",
       "    </tr>\n",
       "    <tr>\n",
       "      <th>2</th>\n",
       "      <td>Porto Alegre</td>\n",
       "      <td>80</td>\n",
       "      <td>1</td>\n",
       "      <td>1</td>\n",
       "      <td>1</td>\n",
       "      <td>6</td>\n",
       "      <td>acept</td>\n",
       "      <td>not furnished</td>\n",
       "      <td>1000</td>\n",
       "      <td>2800</td>\n",
       "      <td>0</td>\n",
       "      <td>41</td>\n",
       "      <td>3841</td>\n",
       "    </tr>\n",
       "    <tr>\n",
       "      <th>3</th>\n",
       "      <td>Porto Alegre</td>\n",
       "      <td>51</td>\n",
       "      <td>2</td>\n",
       "      <td>1</td>\n",
       "      <td>0</td>\n",
       "      <td>2</td>\n",
       "      <td>acept</td>\n",
       "      <td>not furnished</td>\n",
       "      <td>270</td>\n",
       "      <td>1112</td>\n",
       "      <td>22</td>\n",
       "      <td>17</td>\n",
       "      <td>1421</td>\n",
       "    </tr>\n",
       "    <tr>\n",
       "      <th>4</th>\n",
       "      <td>São Paulo</td>\n",
       "      <td>25</td>\n",
       "      <td>1</td>\n",
       "      <td>1</td>\n",
       "      <td>0</td>\n",
       "      <td>1</td>\n",
       "      <td>not acept</td>\n",
       "      <td>not furnished</td>\n",
       "      <td>0</td>\n",
       "      <td>800</td>\n",
       "      <td>25</td>\n",
       "      <td>11</td>\n",
       "      <td>836</td>\n",
       "    </tr>\n",
       "  </tbody>\n",
       "</table>\n",
       "</div>"
      ],
      "text/plain": [
       "           city  area  rooms  bathroom  parking spaces floor     animal  \\\n",
       "0     São Paulo    70      2         1               1     7      acept   \n",
       "1     São Paulo   320      4         4               0    20      acept   \n",
       "2  Porto Alegre    80      1         1               1     6      acept   \n",
       "3  Porto Alegre    51      2         1               0     2      acept   \n",
       "4     São Paulo    25      1         1               0     1  not acept   \n",
       "\n",
       "       furniture  hoa (R$)  rent amount (R$)  property tax (R$)  \\\n",
       "0      furnished      2065              3300                211   \n",
       "1  not furnished      1200              4960               1750   \n",
       "2  not furnished      1000              2800                  0   \n",
       "3  not furnished       270              1112                 22   \n",
       "4  not furnished         0               800                 25   \n",
       "\n",
       "   fire insurance (R$)  total (R$)  \n",
       "0                   42        5618  \n",
       "1                   63        7973  \n",
       "2                   41        3841  \n",
       "3                   17        1421  \n",
       "4                   11         836  "
      ]
     },
     "execution_count": 181,
     "metadata": {},
     "output_type": "execute_result"
    }
   ],
   "source": [
    "# Dataset\n",
    "\n",
    "data = pd.read_csv('houses_to_rent.csv')\n",
    "data.head()"
   ]
  },
  {
   "cell_type": "code",
   "execution_count": 182,
   "id": "fa3e4dd9",
   "metadata": {},
   "outputs": [
    {
     "name": "stdout",
     "output_type": "stream",
     "text": [
      "O DataFrame possui 10692 registros e 13 colunas.\n"
     ]
    }
   ],
   "source": [
    "print(f\"O DataFrame possui {data.shape[0]} registros e {data.shape[1]} colunas.\")"
   ]
  },
  {
   "cell_type": "code",
   "execution_count": 183,
   "id": "f3977d0c",
   "metadata": {},
   "outputs": [
    {
     "data": {
      "text/plain": [
       "Index(['city', 'area', 'rooms', 'bathroom', 'parking spaces', 'floor',\n",
       "       'animal', 'furniture', 'hoa (R$)', 'rent amount (R$)',\n",
       "       'property tax (R$)', 'fire insurance (R$)', 'total (R$)'],\n",
       "      dtype='object')"
      ]
     },
     "execution_count": 183,
     "metadata": {},
     "output_type": "execute_result"
    }
   ],
   "source": [
    "# visualizando as colunas\n",
    "\n",
    "data.columns"
   ]
  },
  {
   "cell_type": "code",
   "execution_count": 184,
   "id": "363c49b8",
   "metadata": {},
   "outputs": [],
   "source": [
    "# renomeando as colunas\n",
    "\n",
    "data.rename(columns={'hoa (R$)':'hoa', 'rent amount (R$)':'rent',\n",
    "       'property tax (R$)': 'property_tax', 'fire insurance (R$)':'fire_insurance', 'total (R$)':'total'}, inplace=True)"
   ]
  },
  {
   "cell_type": "code",
   "execution_count": 185,
   "id": "16f61a94",
   "metadata": {},
   "outputs": [
    {
     "data": {
      "text/plain": [
       "city              object\n",
       "area               int64\n",
       "rooms              int64\n",
       "bathroom           int64\n",
       "parking spaces     int64\n",
       "floor             object\n",
       "animal            object\n",
       "furniture         object\n",
       "hoa                int64\n",
       "rent               int64\n",
       "property_tax       int64\n",
       "fire_insurance     int64\n",
       "total              int64\n",
       "dtype: object"
      ]
     },
     "execution_count": 185,
     "metadata": {},
     "output_type": "execute_result"
    }
   ],
   "source": [
    "data.dtypes"
   ]
  },
  {
   "cell_type": "code",
   "execution_count": 186,
   "id": "21a12027",
   "metadata": {},
   "outputs": [],
   "source": [
    "# transformando algumas colunas em string\n",
    "\n",
    "selecionados = ['area', 'rooms', 'bathroom', 'parking spaces']\n",
    "\n",
    "for coluna in selecionados:\n",
    "    data[coluna] = data[coluna].astype(str)"
   ]
  },
  {
   "cell_type": "code",
   "execution_count": 187,
   "id": "9bbb763e",
   "metadata": {},
   "outputs": [
    {
     "data": {
      "text/plain": [
       "city              object\n",
       "area              object\n",
       "rooms             object\n",
       "bathroom          object\n",
       "parking spaces    object\n",
       "floor             object\n",
       "animal            object\n",
       "furniture         object\n",
       "hoa                int64\n",
       "rent               int64\n",
       "property_tax       int64\n",
       "fire_insurance     int64\n",
       "total              int64\n",
       "dtype: object"
      ]
     },
     "execution_count": 187,
     "metadata": {},
     "output_type": "execute_result"
    }
   ],
   "source": [
    "data.dtypes"
   ]
  },
  {
   "cell_type": "code",
   "execution_count": 188,
   "id": "9bbb7629",
   "metadata": {},
   "outputs": [
    {
     "name": "stdout",
     "output_type": "stream",
     "text": [
      "Não há ocorrencia de dados nulos\n"
     ]
    }
   ],
   "source": [
    "# visualizando dados nulos\n",
    "\n",
    "data.isnull().sum()\n",
    "\n",
    "print(\"Não há ocorrencia de dados nulos\")"
   ]
  },
  {
   "cell_type": "code",
   "execution_count": 189,
   "id": "049a78fc",
   "metadata": {},
   "outputs": [
    {
     "data": {
      "text/plain": [
       "358"
      ]
     },
     "execution_count": 189,
     "metadata": {},
     "output_type": "execute_result"
    }
   ],
   "source": [
    "# verificando dados duplicados\n",
    "\n",
    "data.duplicated().sum()"
   ]
  },
  {
   "cell_type": "code",
   "execution_count": 190,
   "id": "f5797007",
   "metadata": {},
   "outputs": [],
   "source": [
    "# removendo dados duplicados\n",
    "\n",
    "data.drop_duplicates(inplace=True)"
   ]
  },
  {
   "cell_type": "code",
   "execution_count": 191,
   "id": "85fbce19",
   "metadata": {},
   "outputs": [
    {
     "data": {
      "text/plain": [
       "0"
      ]
     },
     "execution_count": 191,
     "metadata": {},
     "output_type": "execute_result"
    }
   ],
   "source": [
    "# verificando a remoção de duplicados\n",
    "\n",
    "data.duplicated().sum()"
   ]
  },
  {
   "cell_type": "code",
   "execution_count": 192,
   "id": "1fca88f4",
   "metadata": {},
   "outputs": [
    {
     "data": {
      "text/plain": [
       "(10334, 13)"
      ]
     },
     "execution_count": 192,
     "metadata": {},
     "output_type": "execute_result"
    }
   ],
   "source": [
    "# após a remoção dos dados duplicados\n",
    "\n",
    "data.shape"
   ]
  },
  {
   "cell_type": "markdown",
   "id": "7482dc42",
   "metadata": {},
   "source": [
    "## Identificando outliers"
   ]
  },
  {
   "cell_type": "code",
   "execution_count": 193,
   "id": "cd32dea5",
   "metadata": {},
   "outputs": [
    {
     "data": {
      "text/html": [
       "<div>\n",
       "<style scoped>\n",
       "    .dataframe tbody tr th:only-of-type {\n",
       "        vertical-align: middle;\n",
       "    }\n",
       "\n",
       "    .dataframe tbody tr th {\n",
       "        vertical-align: top;\n",
       "    }\n",
       "\n",
       "    .dataframe thead th {\n",
       "        text-align: right;\n",
       "    }\n",
       "</style>\n",
       "<table border=\"1\" class=\"dataframe\">\n",
       "  <thead>\n",
       "    <tr style=\"text-align: right;\">\n",
       "      <th></th>\n",
       "      <th>hoa</th>\n",
       "      <th>rent</th>\n",
       "      <th>property_tax</th>\n",
       "      <th>fire_insurance</th>\n",
       "      <th>total</th>\n",
       "    </tr>\n",
       "  </thead>\n",
       "  <tbody>\n",
       "    <tr>\n",
       "      <th>0</th>\n",
       "      <td>2065</td>\n",
       "      <td>3300</td>\n",
       "      <td>211</td>\n",
       "      <td>42</td>\n",
       "      <td>5618</td>\n",
       "    </tr>\n",
       "    <tr>\n",
       "      <th>1</th>\n",
       "      <td>1200</td>\n",
       "      <td>4960</td>\n",
       "      <td>1750</td>\n",
       "      <td>63</td>\n",
       "      <td>7973</td>\n",
       "    </tr>\n",
       "    <tr>\n",
       "      <th>2</th>\n",
       "      <td>1000</td>\n",
       "      <td>2800</td>\n",
       "      <td>0</td>\n",
       "      <td>41</td>\n",
       "      <td>3841</td>\n",
       "    </tr>\n",
       "    <tr>\n",
       "      <th>3</th>\n",
       "      <td>270</td>\n",
       "      <td>1112</td>\n",
       "      <td>22</td>\n",
       "      <td>17</td>\n",
       "      <td>1421</td>\n",
       "    </tr>\n",
       "    <tr>\n",
       "      <th>4</th>\n",
       "      <td>0</td>\n",
       "      <td>800</td>\n",
       "      <td>25</td>\n",
       "      <td>11</td>\n",
       "      <td>836</td>\n",
       "    </tr>\n",
       "  </tbody>\n",
       "</table>\n",
       "</div>"
      ],
      "text/plain": [
       "    hoa  rent  property_tax  fire_insurance  total\n",
       "0  2065  3300           211              42   5618\n",
       "1  1200  4960          1750              63   7973\n",
       "2  1000  2800             0              41   3841\n",
       "3   270  1112            22              17   1421\n",
       "4     0   800            25              11    836"
      ]
     },
     "execution_count": 193,
     "metadata": {},
     "output_type": "execute_result"
    }
   ],
   "source": [
    "# removendo a variavel target\n",
    "df = data.iloc[:,8:14]\n",
    "df.head()"
   ]
  },
  {
   "cell_type": "code",
   "execution_count": 194,
   "id": "89e60d0f",
   "metadata": {},
   "outputs": [
    {
     "data": {
      "image/png": "[encoded data removed]",
      "text/plain": [
       "<Figure size 1600x600 with 1 Axes>"
      ]
     },
     "metadata": {},
     "output_type": "display_data"
    }
   ],
   "source": [
    "plt.figure(figsize=(16,6))\n",
    "ax = sns.boxplot(data = df)"
   ]
  },
  {
   "cell_type": "code",
   "execution_count": 195,
   "id": "8f7d959e",
   "metadata": {},
   "outputs": [
    {
     "name": "stdout",
     "output_type": "stream",
     "text": [
      "hoa : int64\n",
      "rent : int64\n",
      "property_tax : int64\n",
      "fire_insurance : int64\n",
      "total : int64\n"
     ]
    },
    {
     "data": {
      "image/png": "[encoded data removed]",
      "text/plain": [
       "<Figure size 1400x1400 with 8 Axes>"
      ]
     },
     "metadata": {},
     "output_type": "display_data"
    }
   ],
   "source": [
    "numeric_variables = []\n",
    "for i in df.columns[0:13].tolist():\n",
    "    if df.dtypes[i] == 'int64' or df.dtypes[i] == 'float64':\n",
    "        print(i, ':', df.dtypes[i])\n",
    "        numeric_variables.append(i)\n",
    "plt.rcParams['figure.figsize'] = [14.00, 14.00]\n",
    "plt.rcParams['figure.autolayout'] = True\n",
    "\n",
    "plt.rcParams['font.size'] = 10\n",
    "plt.rcParams['axes.titlesize'] = 20\n",
    "\n",
    "f, axes = plt.subplots(2,4) # 2 linhas e 4 colunas\n",
    "\n",
    "line = 0\n",
    "column = 0\n",
    "\n",
    "for i in numeric_variables:\n",
    "    sns.boxplot(data = df, y=i, ax=axes[line][column])\n",
    "    column +=1\n",
    "    if column == 4:\n",
    "        line += 1\n",
    "        column = 0\n",
    "plt.show()"
   ]
  },
  {
   "cell_type": "code",
   "execution_count": 196,
   "id": "24e74f83",
   "metadata": {},
   "outputs": [
    {
     "data": {
      "text/plain": [
       "KNN(algorithm='auto', contamination=0.1, leaf_size=30, method='largest',\n",
       "  metric='minkowski', metric_params=None, n_jobs=1, n_neighbors=5, p=2,\n",
       "  radius=1.0)"
      ]
     },
     "execution_count": 196,
     "metadata": {},
     "output_type": "execute_result"
    }
   ],
   "source": [
    "# instanciando o objeto KNN\n",
    "detector = KNN()\n",
    "\n",
    "# treinando um detector de Outliers\n",
    "detector.fit(df)"
   ]
  },
  {
   "cell_type": "code",
   "execution_count": 197,
   "id": "61f339c1",
   "metadata": {},
   "outputs": [
    {
     "data": {
      "text/plain": [
       "array([0, 1, 0, ..., 0, 1, 0])"
      ]
     },
     "execution_count": 197,
     "metadata": {},
     "output_type": "execute_result"
    }
   ],
   "source": [
    "# labels_ retorno um array com 0 e 1\n",
    "# 0 nao é outlier e 1 é outlier\n",
    "\n",
    "predictions = detector.labels_\n",
    "predictions"
   ]
  },
  {
   "cell_type": "code",
   "execution_count": 198,
   "id": "cf4a04ec",
   "metadata": {},
   "outputs": [
    {
     "data": {
      "text/plain": [
       "(array([0, 1]), array([9300, 1034], dtype=int64))"
      ]
     },
     "execution_count": 198,
     "metadata": {},
     "output_type": "execute_result"
    }
   ],
   "source": [
    "# contagem para identificar oss outliers\n",
    "\n",
    "np.unique(predictions, return_counts=True)"
   ]
  },
  {
   "cell_type": "code",
   "execution_count": 199,
   "id": "dc2a35fe",
   "metadata": {},
   "outputs": [
    {
     "data": {
      "text/plain": [
       "array([ 234.95105873, 1005.547612  ,  141.5344481 , ...,  187.48333259,\n",
       "        502.86081573,   95.53009997])"
      ]
     },
     "execution_count": 199,
     "metadata": {},
     "output_type": "execute_result"
    }
   ],
   "source": [
    "# observando o calculo da distancia realizado para identificar outlier\n",
    "\n",
    "trust_prediction = detector.decision_scores_\n",
    "trust_prediction"
   ]
  },
  {
   "cell_type": "code",
   "execution_count": 200,
   "id": "51eadae9",
   "metadata": {},
   "outputs": [],
   "source": [
    "# criando lista somente com os outliers\n",
    "outliers = []\n",
    "\n",
    "for i in range(len(predictions)):\n",
    "    if predictions[i] == 1:\n",
    "        outliers.append(i)"
   ]
  },
  {
   "cell_type": "code",
   "execution_count": 201,
   "id": "7febf306",
   "metadata": {},
   "outputs": [
    {
     "data": {
      "text/html": [
       "<div>\n",
       "<style scoped>\n",
       "    .dataframe tbody tr th:only-of-type {\n",
       "        vertical-align: middle;\n",
       "    }\n",
       "\n",
       "    .dataframe tbody tr th {\n",
       "        vertical-align: top;\n",
       "    }\n",
       "\n",
       "    .dataframe thead th {\n",
       "        text-align: right;\n",
       "    }\n",
       "</style>\n",
       "<table border=\"1\" class=\"dataframe\">\n",
       "  <thead>\n",
       "    <tr style=\"text-align: right;\">\n",
       "      <th></th>\n",
       "      <th>city</th>\n",
       "      <th>area</th>\n",
       "      <th>rooms</th>\n",
       "      <th>bathroom</th>\n",
       "      <th>parking spaces</th>\n",
       "      <th>floor</th>\n",
       "      <th>animal</th>\n",
       "      <th>furniture</th>\n",
       "      <th>hoa</th>\n",
       "      <th>rent</th>\n",
       "      <th>property_tax</th>\n",
       "      <th>fire_insurance</th>\n",
       "      <th>total</th>\n",
       "    </tr>\n",
       "  </thead>\n",
       "  <tbody>\n",
       "    <tr>\n",
       "      <th>1</th>\n",
       "      <td>São Paulo</td>\n",
       "      <td>320</td>\n",
       "      <td>4</td>\n",
       "      <td>4</td>\n",
       "      <td>0</td>\n",
       "      <td>20</td>\n",
       "      <td>acept</td>\n",
       "      <td>not furnished</td>\n",
       "      <td>1200</td>\n",
       "      <td>4960</td>\n",
       "      <td>1750</td>\n",
       "      <td>63</td>\n",
       "      <td>7973</td>\n",
       "    </tr>\n",
       "    <tr>\n",
       "      <th>7</th>\n",
       "      <td>São Paulo</td>\n",
       "      <td>213</td>\n",
       "      <td>4</td>\n",
       "      <td>4</td>\n",
       "      <td>4</td>\n",
       "      <td>4</td>\n",
       "      <td>acept</td>\n",
       "      <td>not furnished</td>\n",
       "      <td>2254</td>\n",
       "      <td>3223</td>\n",
       "      <td>1735</td>\n",
       "      <td>41</td>\n",
       "      <td>7253</td>\n",
       "    </tr>\n",
       "    <tr>\n",
       "      <th>8</th>\n",
       "      <td>São Paulo</td>\n",
       "      <td>152</td>\n",
       "      <td>2</td>\n",
       "      <td>2</td>\n",
       "      <td>1</td>\n",
       "      <td>3</td>\n",
       "      <td>acept</td>\n",
       "      <td>furnished</td>\n",
       "      <td>1000</td>\n",
       "      <td>15000</td>\n",
       "      <td>250</td>\n",
       "      <td>191</td>\n",
       "      <td>16440</td>\n",
       "    </tr>\n",
       "    <tr>\n",
       "      <th>19</th>\n",
       "      <td>São Paulo</td>\n",
       "      <td>600</td>\n",
       "      <td>4</td>\n",
       "      <td>5</td>\n",
       "      <td>6</td>\n",
       "      <td>-</td>\n",
       "      <td>acept</td>\n",
       "      <td>not furnished</td>\n",
       "      <td>0</td>\n",
       "      <td>12000</td>\n",
       "      <td>9500</td>\n",
       "      <td>181</td>\n",
       "      <td>21680</td>\n",
       "    </tr>\n",
       "    <tr>\n",
       "      <th>40</th>\n",
       "      <td>São Paulo</td>\n",
       "      <td>300</td>\n",
       "      <td>4</td>\n",
       "      <td>6</td>\n",
       "      <td>4</td>\n",
       "      <td>20</td>\n",
       "      <td>acept</td>\n",
       "      <td>not furnished</td>\n",
       "      <td>3700</td>\n",
       "      <td>12000</td>\n",
       "      <td>1584</td>\n",
       "      <td>153</td>\n",
       "      <td>17440</td>\n",
       "    </tr>\n",
       "    <tr>\n",
       "      <th>...</th>\n",
       "      <td>...</td>\n",
       "      <td>...</td>\n",
       "      <td>...</td>\n",
       "      <td>...</td>\n",
       "      <td>...</td>\n",
       "      <td>...</td>\n",
       "      <td>...</td>\n",
       "      <td>...</td>\n",
       "      <td>...</td>\n",
       "      <td>...</td>\n",
       "      <td>...</td>\n",
       "      <td>...</td>\n",
       "      <td>...</td>\n",
       "    </tr>\n",
       "    <tr>\n",
       "      <th>10678</th>\n",
       "      <td>São Paulo</td>\n",
       "      <td>141</td>\n",
       "      <td>3</td>\n",
       "      <td>5</td>\n",
       "      <td>0</td>\n",
       "      <td>4</td>\n",
       "      <td>acept</td>\n",
       "      <td>not furnished</td>\n",
       "      <td>909</td>\n",
       "      <td>10140</td>\n",
       "      <td>772</td>\n",
       "      <td>129</td>\n",
       "      <td>11950</td>\n",
       "    </tr>\n",
       "    <tr>\n",
       "      <th>10681</th>\n",
       "      <td>São Paulo</td>\n",
       "      <td>230</td>\n",
       "      <td>3</td>\n",
       "      <td>5</td>\n",
       "      <td>3</td>\n",
       "      <td>3</td>\n",
       "      <td>not acept</td>\n",
       "      <td>not furnished</td>\n",
       "      <td>3800</td>\n",
       "      <td>11000</td>\n",
       "      <td>1100</td>\n",
       "      <td>140</td>\n",
       "      <td>16040</td>\n",
       "    </tr>\n",
       "    <tr>\n",
       "      <th>10683</th>\n",
       "      <td>São Paulo</td>\n",
       "      <td>280</td>\n",
       "      <td>4</td>\n",
       "      <td>4</td>\n",
       "      <td>2</td>\n",
       "      <td>5</td>\n",
       "      <td>acept</td>\n",
       "      <td>not furnished</td>\n",
       "      <td>4200</td>\n",
       "      <td>4000</td>\n",
       "      <td>1042</td>\n",
       "      <td>51</td>\n",
       "      <td>9293</td>\n",
       "    </tr>\n",
       "    <tr>\n",
       "      <th>10686</th>\n",
       "      <td>São Paulo</td>\n",
       "      <td>150</td>\n",
       "      <td>3</td>\n",
       "      <td>3</td>\n",
       "      <td>2</td>\n",
       "      <td>8</td>\n",
       "      <td>not acept</td>\n",
       "      <td>furnished</td>\n",
       "      <td>0</td>\n",
       "      <td>13500</td>\n",
       "      <td>0</td>\n",
       "      <td>172</td>\n",
       "      <td>13670</td>\n",
       "    </tr>\n",
       "    <tr>\n",
       "      <th>10690</th>\n",
       "      <td>Rio de Janeiro</td>\n",
       "      <td>120</td>\n",
       "      <td>2</td>\n",
       "      <td>2</td>\n",
       "      <td>2</td>\n",
       "      <td>8</td>\n",
       "      <td>acept</td>\n",
       "      <td>furnished</td>\n",
       "      <td>1585</td>\n",
       "      <td>12000</td>\n",
       "      <td>279</td>\n",
       "      <td>155</td>\n",
       "      <td>14020</td>\n",
       "    </tr>\n",
       "  </tbody>\n",
       "</table>\n",
       "<p>1034 rows × 13 columns</p>\n",
       "</div>"
      ],
      "text/plain": [
       "                 city area rooms bathroom parking spaces floor     animal  \\\n",
       "1           São Paulo  320     4        4              0    20      acept   \n",
       "7           São Paulo  213     4        4              4     4      acept   \n",
       "8           São Paulo  152     2        2              1     3      acept   \n",
       "19          São Paulo  600     4        5              6     -      acept   \n",
       "40          São Paulo  300     4        6              4    20      acept   \n",
       "...               ...  ...   ...      ...            ...   ...        ...   \n",
       "10678       São Paulo  141     3        5              0     4      acept   \n",
       "10681       São Paulo  230     3        5              3     3  not acept   \n",
       "10683       São Paulo  280     4        4              2     5      acept   \n",
       "10686       São Paulo  150     3        3              2     8  not acept   \n",
       "10690  Rio de Janeiro  120     2        2              2     8      acept   \n",
       "\n",
       "           furniture   hoa   rent  property_tax  fire_insurance  total  \n",
       "1      not furnished  1200   4960          1750              63   7973  \n",
       "7      not furnished  2254   3223          1735              41   7253  \n",
       "8          furnished  1000  15000           250             191  16440  \n",
       "19     not furnished     0  12000          9500             181  21680  \n",
       "40     not furnished  3700  12000          1584             153  17440  \n",
       "...              ...   ...    ...           ...             ...    ...  \n",
       "10678  not furnished   909  10140           772             129  11950  \n",
       "10681  not furnished  3800  11000          1100             140  16040  \n",
       "10683  not furnished  4200   4000          1042              51   9293  \n",
       "10686      furnished     0  13500             0             172  13670  \n",
       "10690      furnished  1585  12000           279             155  14020  \n",
       "\n",
       "[1034 rows x 13 columns]"
      ]
     },
     "execution_count": 201,
     "metadata": {},
     "output_type": "execute_result"
    }
   ],
   "source": [
    "list_outliers = data.iloc[outliers,:]\n",
    "list_outliers"
   ]
  },
  {
   "cell_type": "code",
   "execution_count": 202,
   "id": "8eebe41a",
   "metadata": {},
   "outputs": [
    {
     "data": {
      "text/plain": [
       "(1034, 13)"
      ]
     },
     "execution_count": 202,
     "metadata": {},
     "output_type": "execute_result"
    }
   ],
   "source": [
    "list_outliers.shape"
   ]
  },
  {
   "cell_type": "code",
   "execution_count": 203,
   "id": "b2a5db81",
   "metadata": {},
   "outputs": [
    {
     "data": {
      "text/plain": [
       "(10334, 13)"
      ]
     },
     "execution_count": 203,
     "metadata": {},
     "output_type": "execute_result"
    }
   ],
   "source": [
    "data.shape"
   ]
  },
  {
   "cell_type": "code",
   "execution_count": 204,
   "id": "afca3124",
   "metadata": {},
   "outputs": [
    {
     "data": {
      "text/plain": [
       "(11368, 13)"
      ]
     },
     "execution_count": 204,
     "metadata": {},
     "output_type": "execute_result"
    }
   ],
   "source": [
    "# concatenando 'data' e 'lista_outliers' \n",
    "#criei uma duplicação dos dados\n",
    "df = pd.concat([data,list_outliers])\n",
    "df.shape"
   ]
  },
  {
   "cell_type": "code",
   "execution_count": 205,
   "id": "431f1c40",
   "metadata": {},
   "outputs": [
    {
     "data": {
      "text/plain": [
       "(9300, 13)"
      ]
     },
     "execution_count": 205,
     "metadata": {},
     "output_type": "execute_result"
    }
   ],
   "source": [
    "# removendo outliers do dataframe com drop_duplicates\n",
    "# using method keep=False\n",
    "df = df.drop_duplicates(keep=False)\n",
    "df.shape"
   ]
  },
  {
   "cell_type": "markdown",
   "id": "b248aadb",
   "metadata": {},
   "source": [
    "### Variável \"City\""
   ]
  },
  {
   "cell_type": "code",
   "execution_count": 206,
   "id": "823267e8",
   "metadata": {},
   "outputs": [
    {
     "data": {
      "text/plain": [
       "city\n",
       "São Paulo         4879\n",
       "Rio de Janeiro    1348\n",
       "Belo Horizonte    1153\n",
       "Porto Alegre      1126\n",
       "Campinas           794\n",
       "Name: count, dtype: int64"
      ]
     },
     "execution_count": 206,
     "metadata": {},
     "output_type": "execute_result"
    }
   ],
   "source": [
    "# cidades\n",
    "\n",
    "df[\"city\"].value_counts().sort_values(ascending=False)"
   ]
  },
  {
   "cell_type": "code",
   "execution_count": 207,
   "id": "5a1cc92f",
   "metadata": {},
   "outputs": [
    {
     "data": {
      "text/plain": [
       "city\n",
       "São Paulo         52.5%\n",
       "Rio de Janeiro    14.5%\n",
       "Belo Horizonte    12.4%\n",
       "Porto Alegre      12.1%\n",
       "Campinas           8.5%\n",
       "Name: count, dtype: object"
      ]
     },
     "execution_count": 207,
     "metadata": {},
     "output_type": "execute_result"
    }
   ],
   "source": [
    "# percentual de casa por cidade\n",
    "\n",
    "city_counts = df['city'].value_counts()\n",
    "city_percentagens = city_counts / len(df) * 100\n",
    "city_percentagens.sort_values(ascending=False).round(1).map(\"{:.1f}%\".format)"
   ]
  },
  {
   "cell_type": "code",
   "execution_count": 208,
   "id": "95727159",
   "metadata": {},
   "outputs": [
    {
     "data": {
      "text/plain": [
       "Text(0.5, 1.0, 'Count City')"
      ]
     },
     "execution_count": 208,
     "metadata": {},
     "output_type": "execute_result"
    },
    {
     "data": {
      "image/png": "[encoded data removed]",
      "text/plain": [
       "<Figure size 800x500 with 1 Axes>"
      ]
     },
     "metadata": {},
     "output_type": "display_data"
    }
   ],
   "source": [
    "# numero de casas para alugar por cidade\n",
    "\n",
    "plt.figure(figsize=(8,5))\n",
    "sns.countplot(data=data, x=data['city'], palette=\"rocket\")\n",
    "plt.ylabel('Count')\n",
    "plt.xlabel('City')\n",
    "plt.title('Count City')"
   ]
  },
  {
   "cell_type": "code",
   "execution_count": 209,
   "id": "763d3977",
   "metadata": {},
   "outputs": [
    {
     "data": {
      "text/plain": [
       "city\n",
       "São Paulo         3000.0\n",
       "Rio de Janeiro    2300.0\n",
       "Belo Horizonte    2250.0\n",
       "Porto Alegre      1600.0\n",
       "Campinas          1500.0\n",
       "Name: rent, dtype: float64"
      ]
     },
     "execution_count": 209,
     "metadata": {},
     "output_type": "execute_result"
    }
   ],
   "source": [
    "# preço médio de aluguel por cidade \n",
    "\n",
    "df.groupby('city')['rent'].median().sort_values(ascending=False)"
   ]
  },
  {
   "cell_type": "code",
   "execution_count": 210,
   "id": "60d27005",
   "metadata": {},
   "outputs": [
    {
     "data": {
      "text/plain": [
       "city\n",
       "Porto Alegre      2500\n",
       "Rio de Janeiro    2500\n",
       "São Paulo         2500\n",
       "Campinas          1200\n",
       "Belo Horizonte    1100\n",
       "Name: rent, dtype: int64"
      ]
     },
     "execution_count": 210,
     "metadata": {},
     "output_type": "execute_result"
    }
   ],
   "source": [
    "# valor de aluguel que mais se repete por cidade\n",
    "\n",
    "df.groupby('city')['rent'].apply(lambda x: x.mode().iloc[0]).sort_values(ascending=False)"
   ]
  },
  {
   "cell_type": "code",
   "execution_count": 211,
   "id": "43917136",
   "metadata": {},
   "outputs": [
    {
     "data": {
      "text/plain": [
       "Text(0.5, 1.0, 'City x Rent')"
      ]
     },
     "execution_count": 211,
     "metadata": {},
     "output_type": "execute_result"
    },
    {
     "data": {
      "image/png": "[encoded data removed]",
      "text/plain": [
       "<Figure size 800x500 with 1 Axes>"
      ]
     },
     "metadata": {},
     "output_type": "display_data"
    }
   ],
   "source": [
    "plt.figure(figsize=(8,5))\n",
    "sns.boxplot(y=df['city'], x=df['rent'],showfliers=False, palette=\"rocket\")\n",
    "plt.ylabel('City')\n",
    "plt.xlabel('Rent(R$)')\n",
    "plt.title('City x Rent')"
   ]
  },
  {
   "cell_type": "markdown",
   "id": "7a8d5423",
   "metadata": {},
   "source": [
    "### Variável \"animal\""
   ]
  },
  {
   "cell_type": "code",
   "execution_count": 212,
   "id": "eaa3f691",
   "metadata": {},
   "outputs": [
    {
     "data": {
      "text/plain": [
       "animal\n",
       "acept        7219\n",
       "not acept    2081\n",
       "Name: count, dtype: int64"
      ]
     },
     "execution_count": 212,
     "metadata": {},
     "output_type": "execute_result"
    }
   ],
   "source": [
    "# verificando a variavel animal\n",
    "\n",
    "df['animal'].value_counts().sort_values(ascending=False)"
   ]
  },
  {
   "cell_type": "code",
   "execution_count": 213,
   "id": "50226423",
   "metadata": {},
   "outputs": [
    {
     "data": {
      "text/plain": [
       "animal\n",
       "acept        77.6%\n",
       "not acept    22.4%\n",
       "Name: count, dtype: object"
      ]
     },
     "execution_count": 213,
     "metadata": {},
     "output_type": "execute_result"
    }
   ],
   "source": [
    "# percentual de aceitação de animais\n",
    "\n",
    "animal_counts = df['animal'].value_counts()\n",
    "animal_percentagens = animal_counts / len(df) * 100\n",
    "animal_percentagens.sort_values(ascending=False).round(1).map(\"{:.1f}%\".format)"
   ]
  },
  {
   "cell_type": "code",
   "execution_count": 214,
   "id": "10e6c30c",
   "metadata": {},
   "outputs": [
    {
     "data": {
      "text/plain": [
       "animal\n",
       "not acept    2230.0\n",
       "acept        2500.0\n",
       "Name: rent, dtype: float64"
      ]
     },
     "execution_count": 214,
     "metadata": {},
     "output_type": "execute_result"
    }
   ],
   "source": [
    "# media de preço onde possui e nao possui animais\n",
    "\n",
    "df.groupby('animal')['rent'].median().sort_values()"
   ]
  },
  {
   "cell_type": "code",
   "execution_count": 215,
   "id": "b04a39bd",
   "metadata": {},
   "outputs": [
    {
     "data": {
      "text/plain": [
       "animal     city          \n",
       "acept      São Paulo         3678\n",
       "           Rio de Janeiro    1079\n",
       "           Porto Alegre       966\n",
       "           Belo Horizonte     857\n",
       "           Campinas           639\n",
       "not acept  São Paulo         1201\n",
       "           Belo Horizonte     296\n",
       "           Rio de Janeiro     269\n",
       "           Porto Alegre       160\n",
       "           Campinas           155\n",
       "Name: count, dtype: int64"
      ]
     },
     "execution_count": 215,
     "metadata": {},
     "output_type": "execute_result"
    }
   ],
   "source": [
    "df.groupby('animal')['city'].value_counts()"
   ]
  },
  {
   "cell_type": "markdown",
   "id": "e2f33010",
   "metadata": {},
   "source": [
    "### Variável \"furniture\""
   ]
  },
  {
   "cell_type": "code",
   "execution_count": 216,
   "id": "e85e0117",
   "metadata": {},
   "outputs": [
    {
     "data": {
      "text/plain": [
       "furniture\n",
       "not furnished    7121\n",
       "furnished        2179\n",
       "Name: count, dtype: int64"
      ]
     },
     "execution_count": 216,
     "metadata": {},
     "output_type": "execute_result"
    }
   ],
   "source": [
    "# verificando a variável \"furniture\"\n",
    "\n",
    "df['furniture'].value_counts(ascending=False)"
   ]
  },
  {
   "cell_type": "code",
   "execution_count": 217,
   "id": "c12128f5",
   "metadata": {},
   "outputs": [
    {
     "data": {
      "text/plain": [
       "furniture\n",
       "not furnished    76.6%\n",
       "furnished        23.4%\n",
       "Name: count, dtype: object"
      ]
     },
     "execution_count": 217,
     "metadata": {},
     "output_type": "execute_result"
    }
   ],
   "source": [
    "# percentual de imóveis imobiliados ou não\n",
    "\n",
    "furniture_counts = df['furniture'].value_counts()\n",
    "furniture_percentagens = furniture_counts / len(df) * 100\n",
    "furniture_percentagens.sort_values(ascending=False).round(1).map(\"{:.1f}%\".format)"
   ]
  },
  {
   "cell_type": "code",
   "execution_count": 218,
   "id": "ec11f8a8",
   "metadata": {},
   "outputs": [
    {
     "data": {
      "text/plain": [
       "Text(0.5, 1.0, 'Furniture x City')"
      ]
     },
     "execution_count": 218,
     "metadata": {},
     "output_type": "execute_result"
    },
    {
     "data": {
      "image/png": "[encoded data removed]",
      "text/plain": [
       "<Figure size 800x500 with 1 Axes>"
      ]
     },
     "metadata": {},
     "output_type": "display_data"
    }
   ],
   "source": [
    "# casas mobiliadas por cidade\n",
    "\n",
    "plt.figure(figsize=(8,5))\n",
    "sns.countplot(data=df, x=df['city'], hue=df['furniture'], palette='rocket', order=df['city'].value_counts().index)\n",
    "plt.ylabel('Count')\n",
    "plt.xlabel('City')\n",
    "plt.title('Furniture x City')"
   ]
  },
  {
   "cell_type": "markdown",
   "id": "0b69894e",
   "metadata": {},
   "source": [
    "- o dataset utilizado possui apenas registros de 5 cidades: São Paulo, Rio de Janeiro, Porto Alegre, Belo Horizonte, e Campinas;\n",
    "- São Paulo possui mais casas disponiveis para alugar(52%). Deve-se levar em consideração que existem muito mais imóveis situados em São Paulo no DataFrame, constituindo mais de 50% dos dados;\n",
    "- 77% dos imóveis aceitam animais;\n",
    "- São Paulo é a cidade que mais aceita animais;\n",
    "- a média de preço não varia de forma significativa por aceitar animais ou não;\n",
    "- 76% dos imóveis não são mobiliados;"
   ]
  },
  {
   "cell_type": "markdown",
   "id": "467706b8",
   "metadata": {},
   "source": [
    "## Linear Regression"
   ]
  },
  {
   "cell_type": "code",
   "execution_count": 219,
   "id": "a70ce6a7",
   "metadata": {},
   "outputs": [
    {
     "data": {
      "text/html": [
       "<div>\n",
       "<style scoped>\n",
       "    .dataframe tbody tr th:only-of-type {\n",
       "        vertical-align: middle;\n",
       "    }\n",
       "\n",
       "    .dataframe tbody tr th {\n",
       "        vertical-align: top;\n",
       "    }\n",
       "\n",
       "    .dataframe thead th {\n",
       "        text-align: right;\n",
       "    }\n",
       "</style>\n",
       "<table border=\"1\" class=\"dataframe\">\n",
       "  <thead>\n",
       "    <tr style=\"text-align: right;\">\n",
       "      <th></th>\n",
       "      <th>city</th>\n",
       "      <th>area</th>\n",
       "      <th>rooms</th>\n",
       "      <th>bathroom</th>\n",
       "      <th>parking spaces</th>\n",
       "      <th>floor</th>\n",
       "      <th>animal</th>\n",
       "      <th>furniture</th>\n",
       "      <th>hoa</th>\n",
       "      <th>rent</th>\n",
       "      <th>property_tax</th>\n",
       "      <th>fire_insurance</th>\n",
       "      <th>total</th>\n",
       "    </tr>\n",
       "  </thead>\n",
       "  <tbody>\n",
       "    <tr>\n",
       "      <th>0</th>\n",
       "      <td>São Paulo</td>\n",
       "      <td>70</td>\n",
       "      <td>2</td>\n",
       "      <td>1</td>\n",
       "      <td>1</td>\n",
       "      <td>7</td>\n",
       "      <td>acept</td>\n",
       "      <td>furnished</td>\n",
       "      <td>2065</td>\n",
       "      <td>3300</td>\n",
       "      <td>211</td>\n",
       "      <td>42</td>\n",
       "      <td>5618</td>\n",
       "    </tr>\n",
       "    <tr>\n",
       "      <th>2</th>\n",
       "      <td>Porto Alegre</td>\n",
       "      <td>80</td>\n",
       "      <td>1</td>\n",
       "      <td>1</td>\n",
       "      <td>1</td>\n",
       "      <td>6</td>\n",
       "      <td>acept</td>\n",
       "      <td>not furnished</td>\n",
       "      <td>1000</td>\n",
       "      <td>2800</td>\n",
       "      <td>0</td>\n",
       "      <td>41</td>\n",
       "      <td>3841</td>\n",
       "    </tr>\n",
       "    <tr>\n",
       "      <th>3</th>\n",
       "      <td>Porto Alegre</td>\n",
       "      <td>51</td>\n",
       "      <td>2</td>\n",
       "      <td>1</td>\n",
       "      <td>0</td>\n",
       "      <td>2</td>\n",
       "      <td>acept</td>\n",
       "      <td>not furnished</td>\n",
       "      <td>270</td>\n",
       "      <td>1112</td>\n",
       "      <td>22</td>\n",
       "      <td>17</td>\n",
       "      <td>1421</td>\n",
       "    </tr>\n",
       "    <tr>\n",
       "      <th>4</th>\n",
       "      <td>São Paulo</td>\n",
       "      <td>25</td>\n",
       "      <td>1</td>\n",
       "      <td>1</td>\n",
       "      <td>0</td>\n",
       "      <td>1</td>\n",
       "      <td>not acept</td>\n",
       "      <td>not furnished</td>\n",
       "      <td>0</td>\n",
       "      <td>800</td>\n",
       "      <td>25</td>\n",
       "      <td>11</td>\n",
       "      <td>836</td>\n",
       "    </tr>\n",
       "    <tr>\n",
       "      <th>5</th>\n",
       "      <td>São Paulo</td>\n",
       "      <td>376</td>\n",
       "      <td>3</td>\n",
       "      <td>3</td>\n",
       "      <td>7</td>\n",
       "      <td>-</td>\n",
       "      <td>acept</td>\n",
       "      <td>not furnished</td>\n",
       "      <td>0</td>\n",
       "      <td>8000</td>\n",
       "      <td>834</td>\n",
       "      <td>121</td>\n",
       "      <td>8955</td>\n",
       "    </tr>\n",
       "  </tbody>\n",
       "</table>\n",
       "</div>"
      ],
      "text/plain": [
       "           city area rooms bathroom parking spaces floor     animal  \\\n",
       "0     São Paulo   70     2        1              1     7      acept   \n",
       "2  Porto Alegre   80     1        1              1     6      acept   \n",
       "3  Porto Alegre   51     2        1              0     2      acept   \n",
       "4     São Paulo   25     1        1              0     1  not acept   \n",
       "5     São Paulo  376     3        3              7     -      acept   \n",
       "\n",
       "       furniture   hoa  rent  property_tax  fire_insurance  total  \n",
       "0      furnished  2065  3300           211              42   5618  \n",
       "2  not furnished  1000  2800             0              41   3841  \n",
       "3  not furnished   270  1112            22              17   1421  \n",
       "4  not furnished     0   800            25              11    836  \n",
       "5  not furnished     0  8000           834             121   8955  "
      ]
     },
     "execution_count": 219,
     "metadata": {},
     "output_type": "execute_result"
    }
   ],
   "source": [
    "df.head()"
   ]
  },
  {
   "cell_type": "markdown",
   "id": "95bc88a9",
   "metadata": {},
   "source": [
    "### dummies"
   ]
  },
  {
   "cell_type": "code",
   "execution_count": 220,
   "id": "2717abbe",
   "metadata": {},
   "outputs": [],
   "source": [
    "df['animal'] = df['animal'].map({'acept':1, 'not acept':0})\n",
    "df['furniture'] = df['furniture'].map({'furnished':1, 'not furished':0})"
   ]
  },
  {
   "cell_type": "code",
   "execution_count": 225,
   "id": "02d66495",
   "metadata": {},
   "outputs": [],
   "source": [
    "# definindo X e y\n",
    "X = df[['animal','furniture']]\n",
    "y = df['rent']"
   ]
  },
  {
   "cell_type": "code",
   "execution_count": 226,
   "id": "b93454f7",
   "metadata": {},
   "outputs": [],
   "source": [
    "X_train, X_test, y_train, y_test = train_test_split(\n",
    "    X, y, test_size=0.40, random_state=42)"
   ]
  },
  {
   "cell_type": "code",
   "execution_count": null,
   "id": "1e6b95ee",
   "metadata": {},
   "outputs": [],
   "source": []
  }
 ],
 "metadata": {
  "kernelspec": {
   "display_name": "Python 3 (ipykernel)",
   "language": "python",
   "name": "python3"
  },
  "language_info": {
   "codemirror_mode": {
    "name": "ipython",
    "version": 3
   },
   "file_extension": ".py",
   "mimetype": "text/x-python",
   "name": "python",
   "nbconvert_exporter": "python",
   "pygments_lexer": "ipython3",
   "version": "3.11.5"
  }
 },
 "nbformat": 4,
 "nbformat_minor": 5
}
